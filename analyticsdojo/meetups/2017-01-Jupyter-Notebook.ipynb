{
 "cells": [
  {
   "cell_type": "markdown",
   "metadata": {},
   "source": [
    "# Tech Valley Machine Learning, Data Science, and AI\n",
    "### Jason Kuruzovich"
   ]
  },
  {
   "cell_type": "markdown",
   "metadata": {},
   "source": [
    "## Why Jupyter\n",
    "- Content + Code\n",
    "\n",
    "\n",
    "## How Jupyter\n",
    "- [Jupyter on Docker](https://github.com/AnalyticsDojo/materials)\n",
    "- [Anaconda](http://jupyter.readthedocs.io/en/latest/install.html)\n",
    "- [AzureML](https://studio.azureml.net)\n",
    "- [Databricks](https://community.cloud.databricks.com)\n",
    "- [Google's DataLab Project](https://cloud.google.com/datalab/)\n",
    "\n",
    "## Jupyter Examples\n",
    "- [Introduction to Pandas](https://github.com/AnalyticsDojo/materials/blob/master/analyticsdojo/classes/02-intro-python/intro-python-pandas.ipynb)\n",
    "- [Introduction to Text Mining](https://github.com/AnalyticsDojo/materials/blob/master/analyticsdojo/classes/12-text-mining/bag-popcorn-bag-words.ipynb)\n",
    "- [Introduction to Spark](https://github.com/AnalyticsDojo/materials/blob/master/analyticsdojo/classes/13-intro-spark/intro-spark.ipynb)\n",
    "\n",
    "## Current Projects\n",
    "- [AnalyticsDojo](http://www.analyticsdojo.com)\n",
    "- [JupyterHub on Kubernetes](https://cloud.google.com/solutions/using-tensorflow-jupyterhub-classrooms)\n"
   ]
  }
 ],
 "metadata": {
  "kernelspec": {
   "display_name": "Python 3",
   "language": "python",
   "name": "python3"
  },
  "language_info": {
   "codemirror_mode": {
    "name": "ipython",
    "version": 3
   },
   "file_extension": ".py",
   "mimetype": "text/x-python",
   "name": "python",
   "nbconvert_exporter": "python",
   "pygments_lexer": "ipython3",
   "version": "3.5.2"
  }
 },
 "nbformat": 4,
 "nbformat_minor": 0
}
