{
 "cells": [
  {
   "cell_type": "markdown",
   "metadata": {},
   "source": [
    "### Exercises 4:\n",
    "### Name:\n"
   ]
  },
  {
   "cell_type": "markdown",
   "metadata": {},
   "source": [
    "### Before you start working on this, you should create a copy of it. While you can get help from others, all work typed below must be your own.\n",
    "\n",
    "### This is a 30 point assignment graded from answers to questions and automated tests that should be run at the bottom.  Please turn in a PDF via *file->print preview* then *print->save as pdf*."
   ]
  },
  {
   "cell_type": "markdown",
   "metadata": {},
   "source": [
    "## Exercises\n",
    "\n",
    "For the exercise below you should import the Iris Dataset as a dataframe called `iris.df`.\n",
    "\n",
    "(1). Create a variable called `sepalWidth.mean` that contains the mean of the `sepalWidth` column of `iris.df`.\n",
    "\n",
    "(2). Create a new column of `iris.df` called `sepalArea` that is equal to the `sepalwidth` times `sepalwidth`. \n",
    "\n",
    "(3). Create a vector of flight distances in units of kilometers rather than miles.\n",
    "\n",
    "(4). Create a boolean (TRUE/FALSE) vector indicating whether the departure delay is shorter than the arrival delay.\n",
    "\n",
    "(5). Create a new dataframe `iristrain.df` that includes the first 75 rows of the iris dataframe.\n",
    "\n",
    "(6). Create a new dataframe `iristest.df` that includes the last 75 rows of the iris dataframe.\n",
    "\n",
    "(7). Create a new vector `sepalLength` from the `sepalLength` column of the iris dataframe.\n",
    "\n"
   ]
  },
  {
   "cell_type": "markdown",
   "metadata": {},
   "source": [
    "## Exercises (continued)\n",
    "For the exercise below you should import `train.csv` and `test.csv` files from the Titanic dataset.\n",
    "\n",
    "(8). While we can submit our answer to Kaggle to see how it will perform, we can also utilize our test data to assess accuracy. Accuracy is the percentage of predictions made correctly-i.e., the percentage of people in which our prediction regarding their survival. \n",
    "    a. Create columns in the training dataset `PredEveryoneDies` and `PredGender` with the same predictions from above. \n",
    "    b. Create variables `AccEveryoneDies` and `AccGender` using a calculation of accuracy of predictions for the `training` dataset.    \n",
    "\n",
    "(9). Notice how we are utilizing the code to select out the `passengerID` and the `Survived` column and generating a submission file over and over? This is in need of a function.  Create a `generate_submission` function that accepts a DataFrame, a target column, and a filename and writes out the submission file with just the `passengerID` and the `Survived` columns, where the survived column is equal to the target column. It should then return a DataFrame with the `passengerID` and the `Survived` columns.\n",
    "\n",
    "Executeing the following:\n",
    "`submitdie <- generate_submission(train, \"PredEveryoneDies\", \"submiteveryonedies.csv\")`\n",
    "\n",
    "Should return a dataframe with just `passengerID` and the `Survived` column.  \n",
    "\n",
    "\n",
    "(10). In according to the [women and children first](https://en.wikipedia.org/wiki/Women_and_children_first) protocol we hypothesize that our model could be improved by including whether the individual was a child in addition to gender.  *After* coding survival based on gender, update your recommendation to prediction in the training dataset survival based on age.\n",
    "`train['PredGenderAge13']` should be the prediction incorporating both Gender and whether Age <  13.\n",
    "`train['PredGenderAge18']` should be the prediction incorporating both Gender and whether Age <  18.\n",
    "`AccGenderAge13` should be the accuracy of the age prediction, based on `train['PredGenderAge13']`. \n",
    "`AccGenderAge18` should be the accuracy of the age prediction, based on `train['PredGenderAge18']`.\n",
    "\n",
    "(11). You should find that the AccGenderAge13 is better than AccGenderAge18. Create a new column `child` in the test and train DataFrames that is 1 if Age <  13 and 1 otherwise.  This is a *feature*."
   ]
  },
  {
   "cell_type": "code",
   "execution_count": null,
   "metadata": {
    "collapsed": true
   },
   "outputs": [],
   "source": []
  }
 ],
 "metadata": {
  "celltoolbar": "Slideshow",
  "kernelspec": {
   "display_name": "R",
   "language": "R",
   "name": "ir"
  },
  "language_info": {
   "codemirror_mode": "r",
   "file_extension": ".r",
   "mimetype": "text/x-r-source",
   "name": "R",
   "pygments_lexer": "r",
   "version": "3.3.1"
  }
 },
 "nbformat": 4,
 "nbformat_minor": 0
}
